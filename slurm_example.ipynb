{
 "cells": [
  {
   "cell_type": "code",
   "execution_count": null,
   "id": "1dec322a-96ad-4e62-9062-237e9a2ff621",
   "metadata": {},
   "outputs": [],
   "source": [
    "import ipyparallel as ipp\n",
    "from datetime import datetime as dt\n",
    "\n",
    "def hostname_example():\n",
    "    import platform\n",
    "    print(f\"running client method in {platform.node()}\")\n",
    "    return f\"Hello World from hostname {platform.node()}.\"\n",
    "    \n",
    "cluster = ipp.Cluster(profile=\"slurm_example\", n=12, timelimit=\"30\", engine_timeout=80, log_level=10, delay=120)\n",
    "\n",
    "try:\n",
    "    print(f\"---starting cluster {dt.now()}\")\n",
    "    cluster.start_cluster_sync()\n",
    "    \n",
    "    print(f\"---connecting client {dt.now()}\")\n",
    "    rc = cluster.connect_client_sync()\n",
    "    time.sleep(10)\n",
    "    print(f\"---waiting for engines {dt.now()}\")\n",
    "    rc.wait_for_engines(n=12, timeout=1000)\n",
    "\n",
    "    rc.ids\n",
    "    print(f\"---apply {dt.now()}\")\n",
    "    r = rc[:].apply_sync(hostname_example)\n",
    "\n",
    "    print(f\"---joining {dt.now()}\")\n",
    "    print(\"\\n\".join(r))\n",
    "finally:\n",
    "    print(f\"---closing {dt.now()}\")\n",
    "    cluster.stop_cluster_sync() # will also remove logs and connection conf"
   ]
  }
 ],
 "metadata": {
  "kernelspec": {
   "display_name": "conda_venv_example",
   "language": "python",
   "name": "conda_venv_example"
  },
  "language_info": {
   "codemirror_mode": {
    "name": "ipython",
    "version": 3
   },
   "file_extension": ".py",
   "mimetype": "text/x-python",
   "name": "python",
   "nbconvert_exporter": "python",
   "pygments_lexer": "ipython3",
   "version": "3.8.18"
  }
 },
 "nbformat": 4,
 "nbformat_minor": 5
}

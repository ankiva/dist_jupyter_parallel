{
 "cells": [
  {
   "cell_type": "code",
   "execution_count": 3,
   "id": "08b84d07-a7c9-48bf-9b00-68f74bb220a8",
   "metadata": {
    "tags": []
   },
   "outputs": [
    {
     "name": "stdout",
     "output_type": "stream",
     "text": [
      "  0%|          | 0/4 [04:12<?, ?engine/s]\n",
      "Starting 4 engines with <class 'ipyparallel.cluster.launcher.MPIEngineSetLauncher'>\n",
      "  0%|          | 0/4 [00:00<?, ?engine/s]"
     ]
    },
    {
     "ename": "TimeoutError",
     "evalue": "4 engines not ready in 120 seconds. Currently ready: 0",
     "output_type": "error",
     "traceback": [
      "\u001b[0;31m---------------------------------------------------------------------------\u001b[0m",
      "\u001b[0;31mTimeoutError\u001b[0m                              Traceback (most recent call last)",
      "Cell \u001b[0;32mIn[3], line 6\u001b[0m\n\u001b[1;32m      3\u001b[0m \u001b[38;5;66;03m# it is important to specify number of tasks here(n), otherwise too much resources is requested from Rocket cluster\u001b[39;00m\n\u001b[1;32m      4\u001b[0m \u001b[38;5;66;03m# default engine_timeout is 60 seconds which is reached sometimes\u001b[39;00m\n\u001b[1;32m      5\u001b[0m cluster \u001b[38;5;241m=\u001b[39m ipp\u001b[38;5;241m.\u001b[39mCluster(engines\u001b[38;5;241m=\u001b[39m\u001b[38;5;124m\"\u001b[39m\u001b[38;5;124mmpi\u001b[39m\u001b[38;5;124m\"\u001b[39m,n\u001b[38;5;241m=\u001b[39m\u001b[38;5;241m4\u001b[39m, engine_timeout\u001b[38;5;241m=\u001b[39m\u001b[38;5;241m120\u001b[39m)\n\u001b[0;32m----> 6\u001b[0m client \u001b[38;5;241m=\u001b[39m \u001b[43mcluster\u001b[49m\u001b[38;5;241;43m.\u001b[39;49m\u001b[43mstart_and_connect_sync\u001b[49m\u001b[43m(\u001b[49m\u001b[43mactivate\u001b[49m\u001b[38;5;241;43m=\u001b[39;49m\u001b[38;5;28;43;01mTrue\u001b[39;49;00m\u001b[43m)\u001b[49m\n\u001b[1;32m      7\u001b[0m view \u001b[38;5;241m=\u001b[39m client[:]\n\u001b[1;32m      8\u001b[0m client\u001b[38;5;241m.\u001b[39mids\n",
      "File \u001b[0;32m~/.conda/envs/conda_venv_example/lib/python3.8/site-packages/ipyparallel/_async.py:70\u001b[0m, in \u001b[0;36mAsyncFirst._synchronize\u001b[0;34m(self, async_f, *args, **kwargs)\u001b[0m\n\u001b[1;32m     68\u001b[0m     loop \u001b[38;5;241m=\u001b[39m \u001b[38;5;28;01mNone\u001b[39;00m\n\u001b[1;32m     69\u001b[0m \u001b[38;5;28;01mif\u001b[39;00m loop:\n\u001b[0;32m---> 70\u001b[0m     \u001b[38;5;28;01mreturn\u001b[39;00m \u001b[38;5;28;43mself\u001b[39;49m\u001b[38;5;241;43m.\u001b[39;49m\u001b[43m_in_thread\u001b[49m\u001b[43m(\u001b[49m\u001b[43masync_f\u001b[49m\u001b[43m,\u001b[49m\u001b[43m \u001b[49m\u001b[38;5;241;43m*\u001b[39;49m\u001b[43margs\u001b[49m\u001b[43m,\u001b[49m\u001b[43m \u001b[49m\u001b[38;5;241;43m*\u001b[39;49m\u001b[38;5;241;43m*\u001b[39;49m\u001b[43mkwargs\u001b[49m\u001b[43m)\u001b[49m\n\u001b[1;32m     71\u001b[0m \u001b[38;5;28;01melse\u001b[39;00m:\n\u001b[1;32m     72\u001b[0m     \u001b[38;5;28;01mreturn\u001b[39;00m _asyncio_run(async_f(\u001b[38;5;241m*\u001b[39margs, \u001b[38;5;241m*\u001b[39m\u001b[38;5;241m*\u001b[39mkwargs))\n",
      "File \u001b[0;32m~/.conda/envs/conda_venv_example/lib/python3.8/site-packages/ipyparallel/_async.py:56\u001b[0m, in \u001b[0;36mAsyncFirst._in_thread\u001b[0;34m(self, async_f, *args, **kwargs)\u001b[0m\n\u001b[1;32m     53\u001b[0m         future\u001b[38;5;241m.\u001b[39mset_exception(e)\n\u001b[1;32m     55\u001b[0m \u001b[38;5;28mself\u001b[39m\u001b[38;5;241m.\u001b[39m_thread_loop\u001b[38;5;241m.\u001b[39madd_callback(thread_callback)\n\u001b[0;32m---> 56\u001b[0m \u001b[38;5;28;01mreturn\u001b[39;00m \u001b[43mfuture\u001b[49m\u001b[38;5;241;43m.\u001b[39;49m\u001b[43mresult\u001b[49m\u001b[43m(\u001b[49m\u001b[43m)\u001b[49m\n",
      "File \u001b[0;32m~/.conda/envs/conda_venv_example/lib/python3.8/concurrent/futures/_base.py:444\u001b[0m, in \u001b[0;36mFuture.result\u001b[0;34m(self, timeout)\u001b[0m\n\u001b[1;32m    442\u001b[0m     \u001b[38;5;28;01mraise\u001b[39;00m CancelledError()\n\u001b[1;32m    443\u001b[0m \u001b[38;5;28;01melif\u001b[39;00m \u001b[38;5;28mself\u001b[39m\u001b[38;5;241m.\u001b[39m_state \u001b[38;5;241m==\u001b[39m FINISHED:\n\u001b[0;32m--> 444\u001b[0m     \u001b[38;5;28;01mreturn\u001b[39;00m \u001b[38;5;28;43mself\u001b[39;49m\u001b[38;5;241;43m.\u001b[39;49m\u001b[43m__get_result\u001b[49m\u001b[43m(\u001b[49m\u001b[43m)\u001b[49m\n\u001b[1;32m    445\u001b[0m \u001b[38;5;28;01melse\u001b[39;00m:\n\u001b[1;32m    446\u001b[0m     \u001b[38;5;28;01mraise\u001b[39;00m \u001b[38;5;167;01mTimeoutError\u001b[39;00m()\n",
      "File \u001b[0;32m~/.conda/envs/conda_venv_example/lib/python3.8/concurrent/futures/_base.py:389\u001b[0m, in \u001b[0;36mFuture.__get_result\u001b[0;34m(self)\u001b[0m\n\u001b[1;32m    387\u001b[0m \u001b[38;5;28;01mif\u001b[39;00m \u001b[38;5;28mself\u001b[39m\u001b[38;5;241m.\u001b[39m_exception:\n\u001b[1;32m    388\u001b[0m     \u001b[38;5;28;01mtry\u001b[39;00m:\n\u001b[0;32m--> 389\u001b[0m         \u001b[38;5;28;01mraise\u001b[39;00m \u001b[38;5;28mself\u001b[39m\u001b[38;5;241m.\u001b[39m_exception\n\u001b[1;32m    390\u001b[0m     \u001b[38;5;28;01mfinally\u001b[39;00m:\n\u001b[1;32m    391\u001b[0m         \u001b[38;5;66;03m# Break a reference cycle with the exception in self._exception\u001b[39;00m\n\u001b[1;32m    392\u001b[0m         \u001b[38;5;28mself\u001b[39m \u001b[38;5;241m=\u001b[39m \u001b[38;5;28;01mNone\u001b[39;00m\n",
      "File \u001b[0;32m~/.conda/envs/conda_venv_example/lib/python3.8/site-packages/ipyparallel/_async.py:51\u001b[0m, in \u001b[0;36mAsyncFirst._in_thread.<locals>.thread_callback\u001b[0;34m()\u001b[0m\n\u001b[1;32m     49\u001b[0m \u001b[38;5;28;01masync\u001b[39;00m \u001b[38;5;28;01mdef\u001b[39;00m \u001b[38;5;21mthread_callback\u001b[39m():\n\u001b[1;32m     50\u001b[0m     \u001b[38;5;28;01mtry\u001b[39;00m:\n\u001b[0;32m---> 51\u001b[0m         future\u001b[38;5;241m.\u001b[39mset_result(\u001b[38;5;28;01mawait\u001b[39;00m async_f(\u001b[38;5;241m*\u001b[39margs, \u001b[38;5;241m*\u001b[39m\u001b[38;5;241m*\u001b[39mkwargs))\n\u001b[1;32m     52\u001b[0m     \u001b[38;5;28;01mexcept\u001b[39;00m \u001b[38;5;167;01mException\u001b[39;00m \u001b[38;5;28;01mas\u001b[39;00m e:\n\u001b[1;32m     53\u001b[0m         future\u001b[38;5;241m.\u001b[39mset_exception(e)\n",
      "File \u001b[0;32m~/.conda/envs/conda_venv_example/lib/python3.8/site-packages/ipyparallel/cluster/cluster.py:757\u001b[0m, in \u001b[0;36mCluster.start_and_connect\u001b[0;34m(self, n, activate)\u001b[0m\n\u001b[1;32m    754\u001b[0m     n \u001b[38;5;241m=\u001b[39m \u001b[38;5;28msum\u001b[39m(engine_set\u001b[38;5;241m.\u001b[39mn \u001b[38;5;28;01mfor\u001b[39;00m engine_set \u001b[38;5;129;01min\u001b[39;00m \u001b[38;5;28mself\u001b[39m\u001b[38;5;241m.\u001b[39mengines\u001b[38;5;241m.\u001b[39mvalues())\n\u001b[1;32m    756\u001b[0m \u001b[38;5;28;01mif\u001b[39;00m n:\n\u001b[0;32m--> 757\u001b[0m     \u001b[38;5;28;01mawait\u001b[39;00m asyncio\u001b[38;5;241m.\u001b[39mwrap_future(\n\u001b[1;32m    758\u001b[0m         client\u001b[38;5;241m.\u001b[39mwait_for_engines(n, block\u001b[38;5;241m=\u001b[39m\u001b[38;5;28;01mFalse\u001b[39;00m, timeout\u001b[38;5;241m=\u001b[39m\u001b[38;5;28mself\u001b[39m\u001b[38;5;241m.\u001b[39mengine_timeout)\n\u001b[1;32m    759\u001b[0m     )\n\u001b[1;32m    761\u001b[0m \u001b[38;5;28;01mif\u001b[39;00m activate:\n\u001b[1;32m    762\u001b[0m     view \u001b[38;5;241m=\u001b[39m client[:]\n",
      "\u001b[0;31mTimeoutError\u001b[0m: 4 engines not ready in 120 seconds. Currently ready: 0"
     ]
    }
   ],
   "source": [
    "import ipyparallel as ipp\n",
    "\n",
    "# it is important to specify number of tasks here(n), otherwise too much resources is requested from Rocket cluster\n",
    "# default engine_timeout is 60 seconds which is reached sometimes\n",
    "cluster = ipp.Cluster(engines=\"mpi\",n=4, engine_timeout=120)\n",
    "client = cluster.start_and_connect_sync(activate=True)\n",
    "view = client[:]\n",
    "client.ids"
   ]
  },
  {
   "cell_type": "code",
   "execution_count": null,
   "id": "b5a62150-42b7-41cc-854b-6b426391cc5a",
   "metadata": {},
   "outputs": [],
   "source": [
    "%%px\n",
    "from mpi4py import MPI\n",
    "import platform\n",
    "mpi_rank=MPI.COMM_WORLD.Get_rank()\n",
    "mpi_size = MPI.COMM_WORLD.Get_size()\n",
    "print (\"Process %d out of %d started in %s.\\n\" % (mpi_rank, mpi_size, platform.node()))"
   ]
  }
 ],
 "metadata": {
  "kernelspec": {
   "display_name": "conda_venv_example",
   "language": "python",
   "name": "conda_venv_example"
  },
  "language_info": {
   "codemirror_mode": {
    "name": "ipython",
    "version": 3
   },
   "file_extension": ".py",
   "mimetype": "text/x-python",
   "name": "python",
   "nbconvert_exporter": "python",
   "pygments_lexer": "ipython3",
   "version": "3.8.18"
  }
 },
 "nbformat": 4,
 "nbformat_minor": 5
}

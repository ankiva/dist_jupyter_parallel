{
 "cells": [
  {
   "cell_type": "code",
   "execution_count": 1,
   "id": "6e8a37ca-2b55-4ea1-8f12-5f0dbfe49323",
   "metadata": {
    "tags": []
   },
   "outputs": [
    {
     "name": "stdout",
     "output_type": "stream",
     "text": [
      "Starting 4 engines with <class 'ipyparallel.cluster.launcher.MPIEngineSetLauncher'>\n",
      "100%|██████████| 4/4 [00:08<00:00,  2.22s/engine]\n"
     ]
    },
    {
     "data": {
      "text/plain": [
       "[0, 1, 2, 3]"
      ]
     },
     "execution_count": 1,
     "metadata": {},
     "output_type": "execute_result"
    }
   ],
   "source": [
    "import ipyparallel as ipp\n",
    "import numpy as np\n",
    "import matplotlib.pyplot as plt\n",
    "\n",
    "from IPython.display import display\n",
    "\n",
    "cluster = ipp.Cluster(engines=\"mpi\",n=4, engine_timeout=120)\n",
    "client = cluster.start_and_connect_sync(activate=True)\n",
    "view = client[:]\n",
    "client.ids"
   ]
  },
  {
   "cell_type": "code",
   "execution_count": 3,
   "id": "75eddd1a-8969-4a5c-8387-0360e0177020",
   "metadata": {
    "tags": []
   },
   "outputs": [
    {
     "data": {
      "text/plain": [
       "[stdout:0] Process 0 out of 4 started in artemis9.\n",
       "\n"
      ]
     },
     "metadata": {},
     "output_type": "display_data"
    },
    {
     "data": {
      "text/plain": [
       "[stdout:2] Process 2 out of 4 started in artemis9.\n",
       "\n"
      ]
     },
     "metadata": {},
     "output_type": "display_data"
    },
    {
     "data": {
      "text/plain": [
       "[stdout:1] Process 1 out of 4 started in artemis9.\n",
       "\n"
      ]
     },
     "metadata": {},
     "output_type": "display_data"
    },
    {
     "data": {
      "text/plain": [
       "[stdout:3] Process 3 out of 4 started in artemis9.\n",
       "\n"
      ]
     },
     "metadata": {},
     "output_type": "display_data"
    }
   ],
   "source": [
    "%%px\n",
    "from mpi4py import MPI\n",
    "import platform\n",
    "mpi_rank=MPI.COMM_WORLD.Get_rank()\n",
    "mpi_size = MPI.COMM_WORLD.Get_size()\n",
    "print (\"Process %d out of %d started in %s.\\n\" % (mpi_rank, mpi_size, platform.node()))"
   ]
  },
  {
   "cell_type": "code",
   "execution_count": 12,
   "id": "554cbed5-a831-456a-9bfe-aa4abc776be4",
   "metadata": {},
   "outputs": [
    {
     "name": "stdout",
     "output_type": "stream",
     "text": [
      "Stopping controller\n",
      "Controller stopped: {'exit_code': 0, 'pid': 183429, 'identifier': 'ipcontroller-1712480655-zmgy-129908'}\n",
      "Stopping engine(s): 1712480656\n",
      "engine set stopped 1712480656: {'exit_code': 0, 'pid': 183450, 'identifier': 'ipengine-1712480655-zmgy-1712480656-129908'}\n"
     ]
    },
    {
     "name": "stderr",
     "output_type": "stream",
     "text": [
      "ERROR:tornado.general:Uncaught exception in ZMQStream callback\n",
      "Traceback (most recent call last):\n",
      "  File \"/gpfs/space/home/antikivi/.conda/envs/conda_venv_example/lib/python3.8/site-packages/zmq/eventloop/zmqstream.py\", line 584, in _run_callback\n",
      "    f = callback(*args, **kwargs)\n",
      "  File \"/gpfs/space/home/antikivi/.conda/envs/conda_venv_example/lib/python3.8/site-packages/decorator.py\", line 232, in fun\n",
      "    return caller(func, *(extras + args), **kw)\n",
      "  File \"/gpfs/space/home/antikivi/.conda/envs/conda_venv_example/lib/python3.8/site-packages/ipyparallel/client/client.py\", line 74, in unpack_message\n",
      "    return f(self, msg)\n",
      "  File \"/gpfs/space/home/antikivi/.conda/envs/conda_venv_example/lib/python3.8/site-packages/ipyparallel/client/client.py\", line 1113, in _dispatch_reply\n",
      "    raise KeyError(\"Unhandled reply message type: %s\" % msg_type)\n",
      "KeyError: 'Unhandled reply message type: execute_request'\n",
      "ERROR:tornado.general:Uncaught exception in zmqstream callback\n",
      "Traceback (most recent call last):\n",
      "  File \"/gpfs/space/home/antikivi/.conda/envs/conda_venv_example/lib/python3.8/site-packages/zmq/eventloop/zmqstream.py\", line 634, in _handle_events\n",
      "    self._handle_recv()\n",
      "  File \"/gpfs/space/home/antikivi/.conda/envs/conda_venv_example/lib/python3.8/site-packages/zmq/eventloop/zmqstream.py\", line 663, in _handle_recv\n",
      "    self._run_callback(callback, msg)\n",
      "  File \"/gpfs/space/home/antikivi/.conda/envs/conda_venv_example/lib/python3.8/site-packages/zmq/eventloop/zmqstream.py\", line 584, in _run_callback\n",
      "    f = callback(*args, **kwargs)\n",
      "  File \"/gpfs/space/home/antikivi/.conda/envs/conda_venv_example/lib/python3.8/site-packages/decorator.py\", line 232, in fun\n",
      "    return caller(func, *(extras + args), **kw)\n",
      "  File \"/gpfs/space/home/antikivi/.conda/envs/conda_venv_example/lib/python3.8/site-packages/ipyparallel/client/client.py\", line 74, in unpack_message\n",
      "    return f(self, msg)\n",
      "  File \"/gpfs/space/home/antikivi/.conda/envs/conda_venv_example/lib/python3.8/site-packages/ipyparallel/client/client.py\", line 1113, in _dispatch_reply\n",
      "    raise KeyError(\"Unhandled reply message type: %s\" % msg_type)\n",
      "KeyError: 'Unhandled reply message type: execute_request'\n",
      "Exception in callback BaseAsyncIOLoop._handle_events(72, 1)\n",
      "handle: <Handle BaseAsyncIOLoop._handle_events(72, 1)>\n",
      "Traceback (most recent call last):\n",
      "  File \"/gpfs/space/home/antikivi/.conda/envs/conda_venv_example/lib/python3.8/asyncio/events.py\", line 81, in _run\n",
      "    self._context.run(self._callback, *self._args)\n",
      "  File \"/gpfs/space/home/antikivi/.conda/envs/conda_venv_example/lib/python3.8/site-packages/tornado/platform/asyncio.py\", line 192, in _handle_events\n",
      "    handler_func(fileobj, events)\n",
      "  File \"/gpfs/space/home/antikivi/.conda/envs/conda_venv_example/lib/python3.8/site-packages/zmq/eventloop/zmqstream.py\", line 634, in _handle_events\n",
      "    self._handle_recv()\n",
      "  File \"/gpfs/space/home/antikivi/.conda/envs/conda_venv_example/lib/python3.8/site-packages/zmq/eventloop/zmqstream.py\", line 663, in _handle_recv\n",
      "    self._run_callback(callback, msg)\n",
      "  File \"/gpfs/space/home/antikivi/.conda/envs/conda_venv_example/lib/python3.8/site-packages/zmq/eventloop/zmqstream.py\", line 584, in _run_callback\n",
      "    f = callback(*args, **kwargs)\n",
      "  File \"/gpfs/space/home/antikivi/.conda/envs/conda_venv_example/lib/python3.8/site-packages/decorator.py\", line 232, in fun\n",
      "    return caller(func, *(extras + args), **kw)\n",
      "  File \"/gpfs/space/home/antikivi/.conda/envs/conda_venv_example/lib/python3.8/site-packages/ipyparallel/client/client.py\", line 74, in unpack_message\n",
      "    return f(self, msg)\n",
      "  File \"/gpfs/space/home/antikivi/.conda/envs/conda_venv_example/lib/python3.8/site-packages/ipyparallel/client/client.py\", line 1113, in _dispatch_reply\n",
      "    raise KeyError(\"Unhandled reply message type: %s\" % msg_type)\n",
      "KeyError: 'Unhandled reply message type: execute_request'\n"
     ]
    }
   ],
   "source": [
    "cluster.stop_cluster_sync()"
   ]
  },
  {
   "cell_type": "markdown",
   "id": "19f96e61-ec82-4475-b6b0-98fd5cbb2c97",
   "metadata": {},
   "source": []
  }
 ],
 "metadata": {
  "kernelspec": {
   "display_name": "conda_venv_example",
   "language": "python",
   "name": "conda_venv_example"
  },
  "language_info": {
   "codemirror_mode": {
    "name": "ipython",
    "version": 3
   },
   "file_extension": ".py",
   "mimetype": "text/x-python",
   "name": "python",
   "nbconvert_exporter": "python",
   "pygments_lexer": "ipython3",
   "version": "3.8.18"
  }
 },
 "nbformat": 4,
 "nbformat_minor": 5
}
